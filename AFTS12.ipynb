{
 "cells": [
  {
   "cell_type": "markdown",
   "id": "88fe0139",
   "metadata": {},
   "source": [
    "Analysis of Financial Time Series, Third Edition\n",
    "\n",
    "Chapter 12 (Sections 12.1 - 12.4)"
   ]
  }
 ],
 "metadata": {
  "kernelspec": {
   "display_name": "R",
   "language": "R",
   "name": "ir"
  },
  "language_info": {
   "codemirror_mode": "r",
   "file_extension": ".r",
   "mimetype": "text/x-r-source",
   "name": "R",
   "pygments_lexer": "r",
   "version": "3.6.1"
  }
 },
 "nbformat": 4,
 "nbformat_minor": 5
}
